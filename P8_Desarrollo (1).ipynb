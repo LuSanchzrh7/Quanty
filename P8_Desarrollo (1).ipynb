{
  "cells": [
    {
      "cell_type": "markdown",
      "id": "a782a391",
      "metadata": {
        "id": "a782a391"
      },
      "source": [
        "### Punto 8. Taller 5"
      ]
    },
    {
      "cell_type": "markdown",
      "id": "3c595e5d",
      "metadata": {
        "id": "3c595e5d"
      },
      "source": [
        "#### Enunciado:\n",
        "Asuma valores hipotéticos para los integrales de Slater (por ejemplo, F[0] = 1.0, F[2] = 0.5, G[1] = 0.3, G[3] = 0.2) y\n",
        "ejecute el código proporcionado para la interacción entre las capas p y d. Basado en la salida, discuta cómo cambiar\n",
        "estos valores podría afectar las interacciones entre electrones y la energía total del sistema.\n",
        "\n"
      ]
    },
    {
      "cell_type": "raw",
      "id": "8799da9e",
      "metadata": {
        "id": "8799da9e"
      },
      "source": [
        "−− Para la capa p :\n",
        "IndexDn = {0 ,2 ,4}\n",
        "IndexUp = {1 ,3 ,5}\n",
        "NF = 6\n",
        "OppUF0 = NewOperator ( \"U\" , NF, IndexUp , IndexDn , {1 ,0} )\n",
        "OppUF2 = NewOperator ( \"U\" , NF, IndexUp , IndexDn , {0 ,1} )\n",
        "−− Para la capa d :\n",
        "IndexDn = {0 ,2 ,4 , 6 ,8 }\n",
        "IndexUp = {1 ,3 ,5 , 7 , 9}\n",
        "NF = 10\n",
        "OppUF0 = NewOperator ( \"U\" , NF, IndexUp , IndexDn , {1 ,0 ,0} )\n",
        "OppUF2 = NewOperator ( \"U\" , NF, IndexUp , IndexDn , {0 ,1 ,0} )"
      ]
    },
    {
      "cell_type": "markdown",
      "id": "9b75ebc8",
      "metadata": {
        "id": "9b75ebc8"
      },
      "source": [
        "#### Explicación Teorica:"
      ]
    },
    {
      "cell_type": "markdown",
      "id": "83fc5dbf",
      "metadata": {
        "id": "83fc5dbf"
      },
      "source": [
        "Las integrales de Slater describen diversas interacciones entre electrones de un sistema, estas se pueden dividir en dos tipos:\n",
        "\n",
        "\n",
        "*   Integrales $F^k$: Describen las interacciones de Coulomb entre los electrones en terminos de una expansion multipolar.\n",
        "*   Integrales $G^k$: Describen interacciones de intercambio entre los electrones.\n",
        "\n",
        "En ambos tipos de integrales, el indice k nos habla sobre el termino de la expansion multipolar realizada en el sistema, siendo 0 para monopolos, 1 para dipolos, 2 para cuadripolar, etc.\n",
        "Si el resultado de cada termino de la expansion varia, nos esta diciendo que a distintos ordenes, las interacciones entre los electrones tambien cambian en magnitud, lo que podria alterar la energia presente en el sistema.\n",
        "Por ejemplo, se observo que al mantener el codigo como se presento en el enunciado, se consideraron las integrales $F^2$, osea los terminos dipolares para el potencial de Coulomb, bajo el cual, todos los electrones del sistema percibiean el mismo potencial electrostatico, como se puede osbervar en las imagenes del codigo. Si se altera esto y se consideran tambien lor otros ordenes de estas integrales, las interacciones no seran iguales en todo el sistema, como se puede observar en la segunda parte de los resultados.\n"
      ]
    },
    {
      "cell_type": "markdown",
      "id": "4d7f5d59",
      "metadata": {
        "id": "4d7f5d59"
      },
      "source": [
        "#### Explicación con Codigo:"
      ]
    },
    {
      "cell_type": "markdown",
      "id": "3143962c",
      "metadata": {
        "id": "3143962c"
      },
      "source": [
        "En este caso, estamos considerando la posibilidad de que la interaccion se produzca en los terminos $F^2,F^4$ y $F^1,F^3$, donde los operadores UF0 y UF2 nos describen dos sistemas de electrones, en el operador 0 se consideran los terminos de expansion dipolar y en el operador 2 los de expansion cuadripolar (k=2) y en el segundo k=4 para los terminos relacionados con los potenciales de Coulomb, en ambos casos sin embargo, no se considera la interaccion de intercambio."
      ]
    },
    {
      "cell_type": "markdown",
      "id": "c514a736",
      "metadata": {
        "id": "c514a736"
      },
      "source": [
        "\\begin{equation}\n",
        "OppUF0 = NewOperator \\left (  'U',...,\\left \\{ \\underbrace{1}_{F^2\\text{ se esta teniendo en cuenta}},\\overbrace{0}^{F^4 \\text{ no se esta teniendo en cuenta}} \\right\\},\\left \\{ \\underbrace{0}_{G^1\\text{ no se esta teniendo en cuenta}},\\overbrace{0}^{G^3 \\text{ no se esta teniendo en cuenta}} \\right\\}\\right )\n",
        "\\end{equation}\n",
        "\n",
        "\\begin{equation}\n",
        "OppUF2 =NewOperator \\left (  'U',...,\\left \\{ \\underbrace{0}_{F^2\\text{ se esta teniendo en cuenta}},\\overbrace{1}^{F^4 \\text{ se esta teniendo en cuenta}} \\right\\},\\left \\{ \\underbrace{0}_{G^1\\text{ no se esta teniendo en cuenta}},\\overbrace{0}^{G^3 \\text{ no se esta teniendo en cuenta}} \\right\\}\\right )\n",
        "\\end{equation}"
      ]
    }
  ],
  "metadata": {
    "kernelspec": {
      "display_name": "Python 3 (ipykernel)",
      "language": "python",
      "name": "python3"
    },
    "language_info": {
      "codemirror_mode": {
        "name": "ipython",
        "version": 3
      },
      "file_extension": ".py",
      "mimetype": "text/x-python",
      "name": "python",
      "nbconvert_exporter": "python",
      "pygments_lexer": "ipython3",
      "version": "3.11.4"
    },
    "colab": {
      "provenance": []
    }
  },
  "nbformat": 4,
  "nbformat_minor": 5
}