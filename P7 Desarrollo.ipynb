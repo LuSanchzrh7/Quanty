{
 "cells": [
  {
   "cell_type": "markdown",
   "id": "a782a391",
   "metadata": {},
   "source": [
    "### Punto 7. Taller 5"
   ]
  },
  {
   "cell_type": "markdown",
   "id": "3c595e5d",
   "metadata": {},
   "source": [
    "#### Enunciado:\n",
    "Modifique el código proporcionado para implementar el operador de Coulomb para la interacción entre electrones\n",
    "en una capa f (l=3). Asuma transferencias de momento angular (valores de k) que son relevantes para los electrones de capa f. Proporcione la parte modificada del código y explique su elección de transferencias de momento angular.\n",
    "#### Codigo Modificado:"
   ]
  },
  {
   "cell_type": "raw",
   "id": "8799da9e",
   "metadata": {},
   "source": [
    "IndexDn = { 0 , 2 , 4 , 6 , 8 , 10 , 12}\n",
    "IndexUp = { 1 , 3 , 5 , 7 , 9 , 11 , 13}\n",
    "NF = 14\n",
    "OppUF0 = NewOperator ( \"U\" , NF, IndexUp , IndexDn , { 1 , 0 , 0 , 0 } )\n",
    "OppUF2 = NewOperator ( \"U\" , NF, IndexUp , IndexDn , { 0 , 1 , 0 , 0 } )\n",
    "OppUF4 = NewOperator ( \"U\" , NF, IndexUp , IndexDn , { 0 , 0 , 1 , 0 } )\n",
    "OppUF6 = NewOperator ( \"U\" , NF, IndexUp , IndexDn , { 0 , 0 , 0 , 1 } )"
   ]
  },
  {
   "cell_type": "markdown",
   "id": "9b75ebc8",
   "metadata": {},
   "source": [
    "#### Explicación Teorica:"
   ]
  },
  {
   "cell_type": "markdown",
   "id": "83fc5dbf",
   "metadata": {},
   "source": [
    "En el potencial de Coulomb, que es un potencial central, el momento angular se conserva. Esto significa que el momento angular $\\vec{L}$ total del sistema permanece constante en el tiempo si solo actúan fuerzas centrales. Como resultado, las interacciones deben respetar la simetría esférica, es decir, cualquier transición o interacción debe conservar el momento angular total.\n",
    "\n",
    "Por lo tanto, el movimiento de las partículas se restringe a un plano perpendicular al vector del momento angular. En términos de transferencia de momento angular ($k$), esto implica que el operador de interacción de Coulomb debe incluir términos que respeten esta conservación. Así, los únicos valores válidos de $k$ serán aquellos que permitan la conservación del momento angular durante la interacción entre los dos electrones.\n",
    "\n",
    "Ahora, en el caso de las capas f $\\left ( l=3 \\right )$  seguiran las reglas de selección dictadas por el momento angular vistas en el punto 6. Por esto, usamos la formula general del momento angular con momentos $l_1$ y $l_2$.\n",
    "\n",
    "\\begin{equation}\n",
    "|l_1-l_2|\\leq k \\leq |l_1+l_2|\n",
    "\\end{equation}\n",
    "\n",
    "En especifico, para la capa p consideramos entonces k como\n",
    "\\begin{equation}\n",
    "0\\leq k \\leq 6\n",
    "\\end{equation}\n",
    "\n",
    "Ademas,$k$ es par ya que tanto $l_1$ como $l_2$ son pares. Por lo tanto los valores de k impar no se tiene en cuenta para solo el orbital f."
   ]
  },
  {
   "cell_type": "markdown",
   "id": "4d7f5d59",
   "metadata": {},
   "source": [
    "#### Explicación con Codigo:"
   ]
  },
  {
   "cell_type": "markdown",
   "id": "3143962c",
   "metadata": {},
   "source": [
    "La razón por la cual estos valores de $k$ se eligen es porque representan todas las posibles transferencias de momento angular que conservan el momento angular total en la interacción de Coulomb para una capa f ($l = 3$). La matriz que se utiliza para definir cada operador (`{1, 0, 0, 0, }`, `{0, 1, 0, 0}`, `{0, 0, 1, 0}`, `{0, 0, 0, 1}`) indica qué $k$ está siendo tomado en cuenta (con `1`), y cuáles no (con `0`). En este caso llegamos hasta 6 por lo que basicamente:\n"
   ]
  },
  {
   "cell_type": "markdown",
   "id": "c514a736",
   "metadata": {},
   "source": [
    "\\begin{equation}\n",
    "OppUF0 = NewOperator \\left (  'U',...,\\left \\{ \\underbrace{1}_{k=0 \\text{ se esta teniendo en cuenta}},\\overbrace{0}^{k=2 \\text{ no se esta teniendo en cuenta}},0,0\\right \\}\\right )\n",
    "\\end{equation}\n",
    "\n",
    "\\begin{equation}\n",
    "OppUF2 = NewOperator \\left (  'U',...,\\left \\{ \\underbrace{0}_{k=0 \\text{ no se esta teniendo en cuenta}},\\overbrace{1}^{k=2 \\text{ se esta teniendo en cuenta}},0,0\\right \\}\\right )\n",
    "\\end{equation}\n",
    "\n",
    "\\begin{equation}\n",
    "OppUF4 = NewOperator \\left (  'U',...,\\left \\{ 0,0,\\underbrace{1}_{\\text{k=4 se esta tomando en cuenta}},\\overbrace{0}^{\\text{k=6 no se esta tomando en cuenta}}\\right \\}\\right )\n",
    "\\end{equation}\n",
    "\n",
    "\\begin{equation}\n",
    "OppUF6 = NewOperator \\left (  'U',...,\\left \\{ 0,0,\\underbrace{0}_{\\text{k=4 no se esta tomando en cuenta}},\\overbrace{1}^{\\text{k=6 se esta tomando en cuenta}}\\right \\}\\right )\n",
    "\\end{equation}"
   ]
  },
  {
   "cell_type": "markdown",
   "id": "55239f2c",
   "metadata": {},
   "source": [
    "Basicamente, ese operador es el que me va a 'modelar' el termino de interacción de el correspondiente k, por lo cual tendriamos 4 de estos operadores correspondientes a cada k par."
   ]
  }
 ],
 "metadata": {
  "kernelspec": {
   "display_name": "Python 3 (ipykernel)",
   "language": "python",
   "name": "python3"
  },
  "language_info": {
   "codemirror_mode": {
    "name": "ipython",
    "version": 3
   },
   "file_extension": ".py",
   "mimetype": "text/x-python",
   "name": "python",
   "nbconvert_exporter": "python",
   "pygments_lexer": "ipython3",
   "version": "3.11.4"
  }
 },
 "nbformat": 4,
 "nbformat_minor": 5
}
