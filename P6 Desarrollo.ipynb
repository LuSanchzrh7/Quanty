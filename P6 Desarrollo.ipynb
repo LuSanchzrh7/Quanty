{
 "cells": [
  {
   "cell_type": "markdown",
   "id": "a782a391",
   "metadata": {},
   "source": [
    "### Punto 6. Taller 5"
   ]
  },
  {
   "cell_type": "markdown",
   "id": "3c595e5d",
   "metadata": {},
   "source": [
    "#### Enunciado:\n",
    "Explique cómo la conservación del momento angular afecta los términos de interacción en el operador de Coulomb.\n",
    "¿Por qué se consideran solo valores específicos de transferencia de momento angular (k) en la interacción entre electrones en las capas p y d? Utilice los ejemplos de código para las capas p y d para ilustrar su respuesta.\n",
    "#### Codigo:"
   ]
  },
  {
   "cell_type": "raw",
   "id": "8799da9e",
   "metadata": {},
   "source": [
    "−− Para la capa p :\n",
    "IndexDn = {0 ,2 ,4}\n",
    "IndexUp = {1 ,3 ,5}\n",
    "NF = 6\n",
    "OppUF0 = NewOperator ( \"U\" , NF, IndexUp , IndexDn , {1 ,0} )\n",
    "OppUF2 = NewOperator ( \"U\" , NF, IndexUp , IndexDn , {0 ,1} )\n",
    "−− Para la capa d :\n",
    "IndexDn = {0 ,2 ,4 , 6 ,8 }\n",
    "IndexUp = {1 ,3 ,5 , 7 , 9}\n",
    "NF = 10\n",
    "OppUF0 = NewOperator ( \"U\" , NF, IndexUp , IndexDn , {1 ,0 ,0} ) \n",
    "OppUF2 = NewOperator ( \"U\" , NF, IndexUp , IndexDn , {0 ,1 ,0} )"
   ]
  },
  {
   "cell_type": "markdown",
   "id": "9b75ebc8",
   "metadata": {},
   "source": [
    "#### Explicación Teorica:"
   ]
  },
  {
   "cell_type": "markdown",
   "id": "83fc5dbf",
   "metadata": {},
   "source": [
    "En el potencial de Coulomb, que es un potencial central, el momento angular se conserva. Esto significa que el momento angular $\\vec{L}$ total del sistema permanece constante en el tiempo si solo actúan fuerzas centrales. Como resultado, las interacciones deben respetar la simetría esférica, es decir, cualquier transición o interacción debe conservar el momento angular total.\n",
    "\n",
    "Por lo tanto, el movimiento de las partículas se restringe a un plano perpendicular al vector del momento angular. En términos de transferencia de momento angular ($k$), esto implica que el operador de interacción de Coulomb debe incluir términos que respeten esta conservación. Así, los únicos valores válidos de $k$ serán aquellos que permitan la conservación del momento angular durante la interacción entre los dos electrones.\n",
    "\n",
    "Ahora, en el caso de las capas p $\\left ( l=1 \\right )$ y d $\\left ( l=2 \\right )$ seguiran las reglas de selección dictadas por el momento angular. Por esto, usamos la formula general del momento angular con momentos $l_1$ y $l_2$.\n",
    "\n",
    "\\begin{equation}\n",
    "|l_1-l_2|\\leq k \\leq |l_1+l_2|\n",
    "\\end{equation}\n",
    "\n",
    "En especifico, para la capa p consideramos entonces k como\n",
    "\\begin{equation}\n",
    "0\\leq k \\leq 2\n",
    "\\end{equation}\n",
    "\n",
    "Ademas,$k$ es par si tanto $l_1$ como $l_2$ son pares o impares y $k$ es impar si uno de los momentos angulares implicados es par y el otro es impar. Por lo tanto el valor de $k=1$ no se tiene en cuenta para ninguna de las capas."
   ]
  },
  {
   "cell_type": "markdown",
   "id": "4d7f5d59",
   "metadata": {},
   "source": [
    "#### Explicación con Codigo:"
   ]
  },
  {
   "cell_type": "markdown",
   "id": "3143962c",
   "metadata": {},
   "source": [
    "En este caso, para la capa p tenemos que tenemos solo el operador para $k=0$ y para $k=2$. Al solo tener dos valores validos para k, entonces la matriz solo tendra dos espacios. Basicamente el 0 me esta diciendo que no estoy teniendo en cuenta el k relacionado a ese espacio en la matriz y el 1 seria que estoy tomando ese k en cuenta."
   ]
  },
  {
   "cell_type": "markdown",
   "id": "c514a736",
   "metadata": {},
   "source": [
    "\\begin{equation}\n",
    "OppUF0 = NewOperator \\left (  'U',...,\\left \\{ \\underbrace{1}_{k=0 \\text{ se esta teniendo en cuenta}},\\overbrace{0}^{k=2 \\text{ no se esta teniendo en cuenta}}\\right \\}\\right )\n",
    "\\end{equation}\n",
    "\n",
    "\\begin{equation}\n",
    "OppUF2 = NewOperator \\left (  'U',...,\\left \\{ \\underbrace{0}_{k=0 \\text{ no se esta teniendo en cuenta}},\\overbrace{1}^{k=2 \\text{ se esta teniendo en cuenta}}\\right \\}\\right )\n",
    "\\end{equation}"
   ]
  },
  {
   "cell_type": "markdown",
   "id": "55239f2c",
   "metadata": {},
   "source": [
    "Basicamente, ese operador es el que me va a 'modelar' el termino de interacción de el correspondiente k."
   ]
  },
  {
   "cell_type": "markdown",
   "id": "5eb00700",
   "metadata": {},
   "source": [
    "Ahora, porque no hay oprerador para k=4 para la capa d?\n",
    "Eso seria porque si consideramos interacciones entre capas d y p el k solo podria ir hasta 3 por lo que el k=4 no se consideraria. O quiza tambien podria ser para que el modelo se vuelva más simple. El retorno de el operador 0 en quanty se puede ver en el repositorio como P6.png"
   ]
  }
 ],
 "metadata": {
  "kernelspec": {
   "display_name": "Python 3 (ipykernel)",
   "language": "python",
   "name": "python3"
  },
  "language_info": {
   "codemirror_mode": {
    "name": "ipython",
    "version": 3
   },
   "file_extension": ".py",
   "mimetype": "text/x-python",
   "name": "python",
   "nbconvert_exporter": "python",
   "pygments_lexer": "ipython3",
   "version": "3.11.4"
  }
 },
 "nbformat": 4,
 "nbformat_minor": 5
}
